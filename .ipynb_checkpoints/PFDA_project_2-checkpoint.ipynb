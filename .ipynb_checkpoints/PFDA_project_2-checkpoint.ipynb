{
 "cells": [
  {
   "cell_type": "markdown",
   "id": "c339416a",
   "metadata": {},
   "source": [
    "<h1 align = center>Programming for Data Analytics Project 2</h1>\n",
    "<h2 align = center>Stephen Caulfield</h2>\n",
    "<h2 align = center>G00398240</h2>"
   ]
  },
  {
   "cell_type": "markdown",
   "id": "c7087a29",
   "metadata": {},
   "source": [
    "<h2>Overview of Project</h2>\n",
    "    <p>This project will investigate the Wisconsin Breast Cancer dataset. These are the requirements for the project</p>\n",
    "<ul>\n",
    "    <li>Undertake an analysis/review of the dataset and present an overview and background</li>\n",
    "    <li>Provide a literature review on classifiers which have been applied to the dataset and compare their performance</li>\n",
    "    <li>Present a statistical analysis of the dataset</li>\n",
    "    <li>Using a range of machine learning algorithms, train a set of classifiers on the dataset (using SKLearn etc.) and present classification performance results. Detailing rationale for the parameter selections you made while training the classifiers.</li>\n",
    "    <li>Compare, contrast and critique your results with reference to the literature</li>\n",
    "    <li>Discuss and investigate how the dataset could be extended – using data synthesis of new tumour datapoints</li>\n",
    "</ul>"
   ]
  },
  {
   "cell_type": "markdown",
   "id": "905a12e1",
   "metadata": {},
   "source": [
    "<h2>What is Breast Cancer?</h2>\n",
    "<img src = https://www.cdc.gov/cancer/breast/basic_info/images/female-breast-diagram-750px.jpg?_=41558 align = right style=\"width:170x;height:170px;\">\n",
    "<p>Breast is one of many forms of Cancer. It happens when cells in the breast grow out of control. There are different types of breast cancer depending on which cells in the breast turn into cancer. The breast consists of three parts, being the lobules, ducts and connective tissue.</p>\n",
    "<p>The breast cancer usually begins in the ducts or lobules and it can spread outside the breast of which it has then metastasized.</p>\n",
    "<p>The most common types of breast cancer are:\n",
    "    <ul>\n",
    "        <li>Invasive ductal carcinoma where the cancer cell begins in the ducts and grow outside the ducts into other parts of breast tissue, and possibly into to other body parts</li>\n",
    "        <li>invasive Lobular carcinoma where cancer begins in the lobules and spread the lobules to breast tissue nearby. This can also spread to other body parts</li>"
   ]
  },
  {
   "cell_type": "markdown",
   "id": "d56bd9db",
   "metadata": {},
   "source": [
    "<h2>Overview of Wisconsin Breast Cancer Dataset</h2>\n",
    "\n",
    "<p>Dataset Title: Wisconsin Breast Cancer Database (January 8, 1991)</p>\n",
    "<p>Source: Dr. WIlliam H. Wolberg (physician), University of Wisconsin Hospitals, Madison, Wisconsin, USA</p>\n",
    "\n",
    "<h3>Attribute Information</h3>\n",
    "<p>Below is a truncated description of each attribute in the data set, the data set its contains specific statistics that can be easily analysed with my code.</p>\n",
    "<ol>\n",
    "    <li>ID number</li>\n",
    "    <li>Diagnosis (M = malignant, B = benign) </li>\n",
    "    <li>Radius (mean of distances from center to points on the perimeter) </li>\n",
    "    <li>Texture (standard deviation of gray-scale values) </li>\n",
    "    <li>Perimeter </li>\n",
    "    <li>Area</li>\n",
    "    <li>Smoothness (local variation in radius lengths) </li>\n",
    "    <li>Compactness (perimeter^2 / area - 1.0) </li>\n",
    "    <li>Concavity (severity of concave portions of the contour) 0</li>\n",
    "    <li>Symmetry </li>\n",
    "    <li>Fractal dimension (\"coastline approximation\" - 1)</li>\n",
    "</ol>\n",
    "\n",
    "<p>There are a few instances of missing attributes in the data set, they will not be included in the analysis of the data set.</p>"
   ]
  },
  {
   "cell_type": "markdown",
   "id": "51858670",
   "metadata": {},
   "source": [
    "<h2>Packages</h2>"
   ]
  },
  {
   "cell_type": "code",
   "execution_count": null,
   "id": "8716128b",
   "metadata": {},
   "outputs": [],
   "source": [
    "import csv\n",
    "\n",
    "import numpy as np\n",
    "\n",
    "import pandas as pd\n",
    "\n",
    "from pandas.plotting import scatter_matrix\n",
    "\n",
    "import seaborn as sns\n",
    "\n",
    "import random\n",
    "\n",
    "from scipy.stats import norm\n",
    "\n",
    "import statistics\n",
    "\n",
    "import matplotlib.pyplot as plt\n",
    "\n",
    "from scipy.stats import spearmanr\n",
    "from scipy.cluster import hierarchy\n",
    "from scipy.spatial.distance import squareform"
   ]
  },
  {
   "cell_type": "markdown",
   "id": "d8e7b61e",
   "metadata": {},
   "source": [
    "<h2>Data set imported</h2>\n",
    "<p>I am using the python package Pandas here to turn the data set into a dataframe that can be presented through python in a presentable fashion. It also provides a suitable platform for the data to be manipulated wherever I see fit."
   ]
  },
  {
   "cell_type": "code",
   "execution_count": null,
   "id": "2ccb88bd",
   "metadata": {},
   "outputs": [],
   "source": [
    "file = \"data.csv\"\n",
    "\n",
    "main_df = pd.read_csv(file, delimiter=\",\")\n",
    "\n",
    "main_df.head()"
   ]
  },
  {
   "cell_type": "markdown",
   "id": "0ff954fe",
   "metadata": {},
   "source": [
    "This verifies how many missing values there are"
   ]
  },
  {
   "cell_type": "code",
   "execution_count": null,
   "id": "b5a6b919",
   "metadata": {},
   "outputs": [],
   "source": [
    "#Shows missing values in dataframe.\n",
    "main_df.isna().sum()"
   ]
  },
  {
   "cell_type": "markdown",
   "id": "809fc908",
   "metadata": {},
   "source": [
    "Verifies data type of each column."
   ]
  },
  {
   "cell_type": "code",
   "execution_count": null,
   "id": "0e1e0ade",
   "metadata": {},
   "outputs": [],
   "source": [
    "#Shows data type of each column\n",
    "print(main_df.dtypes)"
   ]
  },
  {
   "cell_type": "markdown",
   "id": "50c61c5d",
   "metadata": {},
   "source": [
    "Shows the size of the data frame."
   ]
  },
  {
   "cell_type": "code",
   "execution_count": null,
   "id": "ee6604b7",
   "metadata": {},
   "outputs": [],
   "source": [
    "print (main_df.shape)"
   ]
  },
  {
   "cell_type": "markdown",
   "id": "5b3f2141",
   "metadata": {},
   "source": [
    "ID is a column I have deem to be a redundant column for this analysis as there is no statistical knowledge to be earned from its analysis. So it will be removed."
   ]
  },
  {
   "cell_type": "code",
   "execution_count": null,
   "id": "d735ca02",
   "metadata": {},
   "outputs": [],
   "source": [
    "main_df = main_df.drop([\"id\", \"Unnamed: 32\"], axis = 1)\n",
    "\n",
    "main_df.head()"
   ]
  },
  {
   "cell_type": "markdown",
   "id": "ec49451c",
   "metadata": {},
   "source": [
    "<h2>General statistics</h2>"
   ]
  },
  {
   "cell_type": "code",
   "execution_count": null,
   "id": "3dcb7440",
   "metadata": {},
   "outputs": [],
   "source": [
    "main_df.describe()"
   ]
  },
  {
   "cell_type": "code",
   "execution_count": null,
   "id": "02644967",
   "metadata": {},
   "outputs": [],
   "source": [
    "diag = main_df['diagnosis'].value_counts()\n",
    "benign = f'Benign = {diag[0]}'\n",
    "malig = f'Malignant = {diag[1]}'\n",
    "diag_title = [benign, malig]\n",
    "plt.pie(diag, labels=diag_title,startangle=90)\n",
    "plt.title('Benign vs Malignant Diagnoses')\n",
    "plt.show();"
   ]
  },
  {
   "cell_type": "markdown",
   "id": "96616bd0",
   "metadata": {},
   "source": [
    "- Benign Tumors do not grow/spread and are not considered cancerous.\n",
    "- Malignant Tumors do grow and spread in the body. These are considered cancerous."
   ]
  },
  {
   "cell_type": "code",
   "execution_count": null,
   "id": "5d194ee0",
   "metadata": {},
   "outputs": [],
   "source": [
    "compare = sns.FacetGrid(main_df, col = \"radius_mean\", row= \"diagnosis\")\n",
    "compare = compare.map(plt.hist, \"Mean Value\")\n",
    "print(compare)"
   ]
  },
  {
   "cell_type": "markdown",
   "id": "1ab5f58a",
   "metadata": {},
   "source": [
    "<h1>References</h1>\n",
    "<ol>\n",
    "    <li><a href = https://www.cdc.gov/cancer/breast/basic_info/what-is-breast-cancer.htm> CDC: Center for Disease Control and Prevention</a></li>\n",
    "    <li><a href = https://archive.ics.uci.edu/ml/datasets/breast+cancer+wisconsin+(original)> UCI Machine Learning Repository: Breast Cancer Wisconsin (Original) Data Set</a></li>\n",
    "    <li><a href = https://www.kaggle.com/datasets/uciml/breast-cancer-wisconsin-data>Kaggle:Wisconsin Diagnostic Breast Cancer Dataset</a></li>\n",
    "    <li><a href = https://stackoverflow.com/>StackOverflow</li>\n",
    "    <li><a href = https://www.w3schools.com/>W3Schools</li>\n",
    "    <li></li>\n",
    "    <li></li>\n",
    "    \n",
    "</ol>\n",
    "<h3>Python Packages</h3>\n",
    "<ol>\n",
    "    <li><a href = https://numpy.org/>Numpy</a></li>\n",
    "    <li><a href = https://pandas.pydata.org/>Pandas</a></li>\n",
    "    <li><a href = https://seaborn.pydata.org/>Seaborn</a></a></a></a></a></a></li>\n",
    "    <li><a href = https://matplotlib.org/>MatPlotLib</a></li>\n",
    "    <li><a href = https://docs.python.org/3/library/random.html>Random</a></li>\n",
    "    <li><a href = https://docs.python.org/3/library/math.html>Math</a></li>\n",
    "    <li><a href = https://scikit-learn.org/stable/>Sklearn</a></li>\n",
    "    <li><a href = https://scipy.org/>Scipy</a></li>\n",
    "</ol>"
   ]
  },
  {
   "cell_type": "code",
   "execution_count": null,
   "id": "9555cf43",
   "metadata": {},
   "outputs": [],
   "source": []
  },
  {
   "cell_type": "code",
   "execution_count": null,
   "id": "2bd9b3f6",
   "metadata": {},
   "outputs": [],
   "source": []
  },
  {
   "cell_type": "code",
   "execution_count": null,
   "id": "5d0a3c01",
   "metadata": {},
   "outputs": [],
   "source": []
  },
  {
   "cell_type": "code",
   "execution_count": null,
   "id": "491537c9",
   "metadata": {},
   "outputs": [],
   "source": []
  },
  {
   "cell_type": "code",
   "execution_count": null,
   "id": "21e6635e",
   "metadata": {},
   "outputs": [],
   "source": []
  },
  {
   "cell_type": "code",
   "execution_count": null,
   "id": "b5f7e72f",
   "metadata": {},
   "outputs": [],
   "source": []
  },
  {
   "cell_type": "code",
   "execution_count": null,
   "id": "94af732e",
   "metadata": {},
   "outputs": [],
   "source": []
  },
  {
   "cell_type": "code",
   "execution_count": null,
   "id": "4d97a31b",
   "metadata": {},
   "outputs": [],
   "source": []
  },
  {
   "cell_type": "code",
   "execution_count": null,
   "id": "5dcea323",
   "metadata": {},
   "outputs": [],
   "source": []
  },
  {
   "cell_type": "code",
   "execution_count": null,
   "id": "59cc3a1f",
   "metadata": {},
   "outputs": [],
   "source": []
  },
  {
   "cell_type": "code",
   "execution_count": null,
   "id": "1d34d861",
   "metadata": {},
   "outputs": [],
   "source": []
  },
  {
   "cell_type": "code",
   "execution_count": null,
   "id": "83eac589",
   "metadata": {},
   "outputs": [],
   "source": []
  },
  {
   "cell_type": "code",
   "execution_count": null,
   "id": "0a003f6d",
   "metadata": {},
   "outputs": [],
   "source": []
  }
 ],
 "metadata": {
  "kernelspec": {
   "display_name": "Python 3 (ipykernel)",
   "language": "python",
   "name": "python3"
  },
  "language_info": {
   "codemirror_mode": {
    "name": "ipython",
    "version": 3
   },
   "file_extension": ".py",
   "mimetype": "text/x-python",
   "name": "python",
   "nbconvert_exporter": "python",
   "pygments_lexer": "ipython3",
   "version": "3.8.0"
  }
 },
 "nbformat": 4,
 "nbformat_minor": 5
}
