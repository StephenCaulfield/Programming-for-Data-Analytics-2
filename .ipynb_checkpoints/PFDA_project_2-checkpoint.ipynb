{
 "cells": [
  {
   "cell_type": "markdown",
   "id": "1d6f1d98",
   "metadata": {},
   "source": [
    "<h1 align = center>Programming for Data Analytics Project 2</h1>\n",
    "<h2 align = center>Stephen Caulfield</h2>\n",
    "<h2 align = center>G00398240</h2>"
   ]
  },
  {
   "cell_type": "markdown",
   "id": "49616a88",
   "metadata": {},
   "source": [
    "<h2>Overview of Project</h2>\n",
    "    <p>This project will investigate the Wisconsin Breast Cancer dataset. These are the requirements for the project</p>\n",
    "<ul>\n",
    "    <li>Undertake an analysis/review of the dataset and present an overview and background</li>\n",
    "    <li>Provide a literature review on classifiers which have been applied to the dataset and compare their performance</li>\n",
    "    <li>Present a statistical analysis of the dataset</li>\n",
    "    <li>Using a range of machine learning algorithms, train a set of classifiers on the dataset (using SKLearn etc.) and present classification performance results. Detailing rationale for the parameter selections you made while training the classifiers.</li>\n",
    "    <li>Compare, contrast and critique your results with reference to the literature</li>\n",
    "    <li>Discuss and investigate how the dataset could be extended – using data synthesis of new tumour datapoints</li>\n",
    "</ul>"
   ]
  },
  {
   "cell_type": "markdown",
   "id": "9f76f0fa",
   "metadata": {},
   "source": [
    "<h2>What is Breast Cancer?</h2>\n",
    "<img src = https://www.cdc.gov/cancer/breast/basic_info/images/female-breast-diagram-750px.jpg?_=41558 align = right style=\"width:170x;height:170px;\">\n",
    "<p>Breast is one of many forms of Cancer. It happens when cells in the breast grow out of control. There are different types of breast cancer depending on which cells in the breast turn into cancer. The breast consists of three parts, being the lobules, ducts and connective tissue.</p>\n",
    "<p>The breast cancer usually begins in the ducts or lobules and it can spread outside the breast of which it has then metastasized.</p>\n",
    "<p>The most common types of breast cancer are:\n",
    "    <ul>\n",
    "        <li>Invasive ductal carcinoma where the cancer cell begins in the ducts and grow outside the ducts into other parts of breast tissue, and possibly into to other body parts</li>\n",
    "        <li>invasive Lobular carcinoma where cancer begins in the lobules and spread the lobules to breast tissue nearby. This can also spread to other body parts</li>"
   ]
  },
  {
   "cell_type": "markdown",
   "id": "6d7d316e",
   "metadata": {},
   "source": [
    "<h2>Overview of Wisconsin Breast Cancer Dataset</h2>\n",
    "\n",
    "<p>Dataset Title: Wisconsin Breast Cancer Database (January 8, 1991)</p>\n",
    "<p>Source: Dr. WIlliam H. Wolberg (physician), University of Wisconsin Hospitals, Madison, Wisconsin, USA</p>\n",
    "\n",
    "<h3>Attributes</h3>\n",
    "<ol>\n",
    "    <li>Sample code number: id number</li>\n",
    "    <li>Clump Thickness: 1 - 10</li>\n",
    "    <li>Uniformity of Cell Size: 1 - 10</li>\n",
    "    <li>Uniformity of Cell Shape: 1 - 10</li>\n",
    "    <li>Marginal Adhesion: 1 - 10</li>\n",
    "    <li>Single Epithelial Cell Size: 1 - 10</li>\n",
    "    <li>Bare Nuclei: 1 - 10</li>\n",
    "    <li>Bland Chromatin: 1 - 10</li>\n",
    "    <li>Normal Nucleoli: 1 - 10</li>\n",
    "    <li>Mitoses: 1 - 10</li>\n",
    "    <li>Class: (2 for benign, 4 for malignant)</li>\n",
    "</ol>\n",
    "\n",
    "<p>There are 16 instances of missing attributes in the data set, these will be not included in the analysis of the data set.</p>"
   ]
  },
  {
   "cell_type": "markdown",
   "id": "8494e495",
   "metadata": {},
   "source": [
    "<h2>Packages</h2>"
   ]
  },
  {
   "cell_type": "code",
   "execution_count": 3,
   "id": "d80ca56a",
   "metadata": {},
   "outputs": [],
   "source": [
    "import numpy as np\n",
    "\n",
    "import pandas as pd\n",
    "\n",
    "from pandas.plotting import scatter_matrix\n",
    "\n",
    "import seaborn as sns\n",
    "\n",
    "import random\n",
    "\n",
    "from scipy.stats import norm\n",
    "\n",
    "import statistics\n",
    "\n",
    "import matplotlib.pyplot as plt\n",
    "\n",
    "from scipy.stats import spearmanr\n",
    "from scipy.cluster import hierarchy\n",
    "from scipy.spatial.distance import squareform"
   ]
  },
  {
   "cell_type": "markdown",
   "id": "2f19c3ae",
   "metadata": {},
   "source": [
    "<h2>Data set imported</h2>\n",
    "<p>I am using the python package Pandas here to turn the data set into a dataframe that can be presented through python in a presentable fashion. It also provides a suitable platform for the data to be manipulated wherever I see fit."
   ]
  },
  {
   "cell_type": "code",
   "execution_count": null,
   "id": "302fa65d",
   "metadata": {},
   "outputs": [],
   "source": [
    "file = \"wdbc.data\"\n",
    "\n",
    "pand_file = pd.read_csv(file_path, delimiter=\",\")\n",
    "\n",
    "wbc_data.columns = [\"Sample ID Number\", \"Clump Thickness\", \"Uniformity of Cell Size\", \"Uniformity of Cell Shape\", \"Marginal Adhesion\", \"Single Epithelial Cell\", \"Bare Nuclei\", \"Bland Chromatin\", \"Normal Nuclei\", \"Mitoses\", \"Class\"]"
   ]
  },
  {
   "cell_type": "markdown",
   "id": "f64fcfc1",
   "metadata": {},
   "source": [
    "<h1>References</h1>\n",
    "<ol>\n",
    "    <li><a href = https://www.cdc.gov/cancer/breast/basic_info/what-is-breast-cancer.htm> CDC: Center for Disease Control and Prevention</a></li>\n",
    "    <li><a href = https://archive.ics.uci.edu/ml/datasets/breast+cancer+wisconsin+(original)> UCI Machine Learning Repository: Breast Cancer Wisconsin (Original) Data Set</a></li>\n",
    "    <li></li>\n",
    "    <li></li>\n",
    "    <li></li>\n",
    "    <li></li>\n",
    "    \n",
    "</ol>\n",
    "<h3>Python Packages</h3>\n",
    "<ol>\n",
    "    <li><a href = https://numpy.org/>Numpy</a></li>\n",
    "    <li><a href = https://pandas.pydata.org/>Pandas</a></li>\n",
    "    <li><a href = https://seaborn.pydata.org/>Seaborn</a></a></a></a></a></a></li>\n",
    "    <li><a href = https://matplotlib.org/>MatPlotLib</a></li>\n",
    "    <li><a href = https://docs.python.org/3/library/random.html>Random</a></li>\n",
    "    <li><a href = https://docs.python.org/3/library/math.html>Math</a></li>\n",
    "    <li><a href = https://scikit-learn.org/stable/>Sklearn</a></li>\n",
    "    <li><a href = https://scipy.org/>Scipy</a></li>\n",
    "</ol>"
   ]
  },
  {
   "cell_type": "code",
   "execution_count": null,
   "id": "4735ed5d",
   "metadata": {},
   "outputs": [],
   "source": []
  }
 ],
 "metadata": {
  "kernelspec": {
   "display_name": "Python 3 (ipykernel)",
   "language": "python",
   "name": "python3"
  },
  "language_info": {
   "codemirror_mode": {
    "name": "ipython",
    "version": 3
   },
   "file_extension": ".py",
   "mimetype": "text/x-python",
   "name": "python",
   "nbconvert_exporter": "python",
   "pygments_lexer": "ipython3",
   "version": "3.8.0"
  }
 },
 "nbformat": 4,
 "nbformat_minor": 5
}
